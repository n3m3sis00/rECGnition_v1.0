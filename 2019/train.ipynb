{
 "cells": [
  {
   "cell_type": "code",
   "execution_count": 1,
   "metadata": {},
   "outputs": [
    {
     "name": "stdout",
     "output_type": "stream",
     "text": [
      "compiling model....\n",
      "compilation completed....\n",
      "(64, 5)\n",
      "Training started....\n"
     ]
    }
   ],
   "source": [
    "import timeit\n",
    "import pathlib\n",
    "import os\n",
    "\n",
    "import numpy as np\n",
    "from sklearn.model_selection import train_test_split\n",
    "import tensorflow as tf\n",
    "\n",
    "from models.architectures.multi import getModel\n",
    "\n",
    "\n",
    "IMG_WIDTH =128\n",
    "IMG_HEIGHT = 128\n",
    "AUTOTUNE = tf.data.experimental.AUTOTUNE\n",
    "BATCH_SIZE = 64\n",
    "\n",
    "data_dir = pathlib.Path(\".\\\\data\\\\flower_photos\")\n",
    "image_count = len(list(data_dir.glob('*\\\\*.jpg')))\n",
    "CLASS_NAMES = np.array([item.name for item in data_dir.glob('*') if item.name != \"LICENSE.txt\"])\n",
    "\n",
    "\n",
    "list_ds = tf.data.Dataset.list_files(str(data_dir/'*/*'))\n",
    "\n",
    "def get_label(file_path):\n",
    "  parts = tf.strings.split(file_path, os.path.sep)\n",
    "  return parts[-2] == CLASS_NAMES\n",
    "\n",
    "def get_metadata(file_path):\n",
    "  parts = tf.strings.split(file_path, os.path.sep)\n",
    "#   age = tf.strings.split(parts[-1],\"_\")[-2]\n",
    "#   sex = tf.strings.split(parts[-1],\"_\")[-1]\n",
    "  age = 69\n",
    "  sex = 1\n",
    "  return tf.constant([age, sex])\n",
    "\n",
    "def decode_img(img):\n",
    "  img = tf.image.decode_jpeg(img, channels=3)\n",
    "  img = tf.image.convert_image_dtype(img, tf.float32)\n",
    "  return tf.image.resize(img, [IMG_WIDTH, IMG_HEIGHT])\n",
    "\n",
    "\n",
    "def process_path(file_path):\n",
    "  label = get_label(file_path)\n",
    "  metadata = get_metadata(file_path)\n",
    "  img = tf.io.read_file(file_path)\n",
    "  img = decode_img(img)\n",
    "  data = {\"age_gen\": metadata, \"img\": img}\n",
    "  return data, label\n",
    "\n",
    "\n",
    "\n",
    "\n",
    "def prepare_for_training(ds, cache=True, shuffle_buffer_size=1000):\n",
    "  if cache:\n",
    "    if isinstance(cache, str):\n",
    "      ds = ds.cache(cache)\n",
    "    else:\n",
    "      ds = ds.cache()\n",
    "  ds = ds.shuffle(buffer_size=shuffle_buffer_size)\n",
    "  ds = ds.repeat()\n",
    "  ds = ds.batch(BATCH_SIZE)\n",
    "  ds = ds.prefetch(buffer_size=AUTOTUNE)\n",
    "\n",
    "  return ds\n",
    "\n",
    "\n",
    "labeled_ds = list_ds.map(process_path, num_parallel_calls=AUTOTUNE)\n",
    "train_ds = prepare_for_training(labeled_ds)\n",
    "\n",
    "# image_batch, label_batch = next(iter(train_ds))\n",
    "\n",
    "# print(image_batch[\"age_gen\"].numpy()[0])\n",
    "METRICS = [\n",
    "      tf.keras.metrics.TruePositives(name='tp'),\n",
    "      tf.keras.metrics.FalsePositives(name='fp'),\n",
    "      tf.keras.metrics.TrueNegatives(name='tn'),\n",
    "      tf.keras.metrics.FalseNegatives(name='fn'), \n",
    "      tf.keras.metrics.BinaryAccuracy(name='accuracy'),\n",
    "      tf.keras.metrics.Precision(name='precision'),\n",
    "      tf.keras.metrics.Recall(name='recall'),\n",
    "      tf.keras.metrics.AUC(name='auc'),\n",
    "]\n",
    "\n",
    "model = getModel()\n",
    "# tf.keras.utils.plot_model(model, 'multi_input_and_output_model.png', show_shapes=True)\n",
    "\n",
    "\n",
    "print(\"compiling model....\")\n",
    "model.compile(optimizer='adam',\n",
    "                loss='categorical_crossentropy',\n",
    "                metrics=METRICS\n",
    "                  )\n",
    "print(\"compilation completed....\")\n",
    "\n",
    "\n",
    "tensorboard_cbk = tf.keras.callbacks.TensorBoard(log_dir='./logs')\n",
    "x,y = next(iter(train_ds.take(1)))\n",
    "# print(y.numpy())\n",
    "print(y.numpy().shape)\n",
    "\n",
    "print(\"Training started....\")\n",
    "\n",
    "start = timeit.default_timer()\n",
    "# model.fit(train_ds,\n",
    "#           epochs=2,\n",
    "#           steps_per_epoch=20,\n",
    "#           )\n",
    "stop = timeit.default_timer()\n",
    "\n",
    "\n",
    "# TEST_LOSS, TEST_ACCURACY = model.evaluate(test_dataset, callbacks=[tensorboard_cbk])\n",
    "\n",
    "\n",
    "# print(\"------------------------------------------------->\")\n",
    "# print(\"TEST LOSS: \" + str(TEST_LOSS))\n",
    "# print(\"TEST ACCURACY: \" + str(TEST_ACCURACY))\n",
    "# print('Time Taken to train: ', str((stop - start)/60) + \" min\")\n",
    "# print(\"------------------------------------------------->\")\n",
    "\n",
    "# model.predict(train_ds.take(1))\n",
    "\n",
    "# logits = model.predict(train_ds.take(1))\n",
    "# print(logits[0])"
   ]
  },
  {
   "cell_type": "code",
   "execution_count": 5,
   "metadata": {},
   "outputs": [],
   "source": [
    "x = next(iter(list_ds.take(1)))"
   ]
  },
  {
   "cell_type": "code",
   "execution_count": 6,
   "metadata": {},
   "outputs": [
    {
     "data": {
      "text/plain": [
       "b'data\\\\flower_photos\\\\dandelion\\\\14185089716_2a48298d17.jpg'"
      ]
     },
     "execution_count": 6,
     "metadata": {},
     "output_type": "execute_result"
    }
   ],
   "source": [
    "x.numpy()"
   ]
  },
  {
   "cell_type": "code",
   "execution_count": 11,
   "metadata": {},
   "outputs": [],
   "source": [
    "parts = tf.strings.split(x, os.path.sep)\n",
    "age = tf.strings.split(parts[-1],\"_\")[-2]\n",
    "sex = tf.strings.split(parts[-1],\"_\")[-1].numpy()[:-4]"
   ]
  },
  {
   "cell_type": "code",
   "execution_count": 14,
   "metadata": {},
   "outputs": [
    {
     "data": {
      "text/plain": [
       "14185089716"
      ]
     },
     "execution_count": 14,
     "metadata": {},
     "output_type": "execute_result"
    }
   ],
   "source": [
    "int(age.numpy())"
   ]
  },
  {
   "cell_type": "code",
   "execution_count": 15,
   "metadata": {},
   "outputs": [
    {
     "ename": "ValueError",
     "evalue": "invalid literal for int() with base 10: b'2a48298d17'",
     "output_type": "error",
     "traceback": [
      "\u001b[1;31m---------------------------------------------------------------------------\u001b[0m",
      "\u001b[1;31mValueError\u001b[0m                                Traceback (most recent call last)",
      "\u001b[1;32m<ipython-input-15-79f84abbb8a1>\u001b[0m in \u001b[0;36m<module>\u001b[1;34m\u001b[0m\n\u001b[1;32m----> 1\u001b[1;33m \u001b[0mint\u001b[0m\u001b[1;33m(\u001b[0m\u001b[0msex\u001b[0m\u001b[1;33m)\u001b[0m\u001b[1;33m\u001b[0m\u001b[1;33m\u001b[0m\u001b[0m\n\u001b[0m",
      "\u001b[1;31mValueError\u001b[0m: invalid literal for int() with base 10: b'2a48298d17'"
     ]
    }
   ],
   "source": [
    "int(sex)"
   ]
  },
  {
   "cell_type": "code",
   "execution_count": null,
   "metadata": {},
   "outputs": [],
   "source": []
  }
 ],
 "metadata": {
  "kernelspec": {
   "display_name": "Python 3",
   "language": "python",
   "name": "python3"
  },
  "language_info": {
   "codemirror_mode": {
    "name": "ipython",
    "version": 3
   },
   "file_extension": ".py",
   "mimetype": "text/x-python",
   "name": "python",
   "nbconvert_exporter": "python",
   "pygments_lexer": "ipython3",
   "version": "3.7.3"
  }
 },
 "nbformat": 4,
 "nbformat_minor": 2
}
