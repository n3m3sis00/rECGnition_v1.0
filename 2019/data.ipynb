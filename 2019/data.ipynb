{
 "cells": [
  {
   "cell_type": "markdown",
   "metadata": {},
   "source": [
    "# Preparing data for various experiments"
   ]
  },
  {
   "cell_type": "markdown",
   "metadata": {},
   "source": [
    "### Data for binary classification with downsampled Normal class"
   ]
  },
  {
   "cell_type": "code",
   "execution_count": 2,
   "metadata": {},
   "outputs": [],
   "source": [
    "import os\n",
    "import shutil\n",
    "from random import shuffle\n",
    "import numpy as np"
   ]
  },
  {
   "cell_type": "code",
   "execution_count": null,
   "metadata": {},
   "outputs": [],
   "source": [
    "all_normal_files = os.listdir(os.path.join(DATA_LOC, \"N\"))"
   ]
  },
  {
   "cell_type": "code",
   "execution_count": null,
   "metadata": {},
   "outputs": [],
   "source": [
    "DATA_LOC = \"./data/image_data\"\n",
    "TARGET_CLASS = \"./data/two_class_img\""
   ]
  },
  {
   "cell_type": "code",
   "execution_count": null,
   "metadata": {},
   "outputs": [],
   "source": [
    "shuffle(all_normal_files)"
   ]
  },
  {
   "cell_type": "code",
   "execution_count": null,
   "metadata": {
    "scrolled": true
   },
   "outputs": [],
   "source": [
    "for counter, img in enumerate(all_normal_files[0:28000]):\n",
    "    shutil.copyfile(os.path.join(DATA_LOC, \"N\", img), os.path.join(TARGET_CLASS, \"N\", img))\n",
    "    if counter % 50 == 0:\n",
    "        print(counter)"
   ]
  },
  {
   "cell_type": "code",
   "execution_count": null,
   "metadata": {},
   "outputs": [],
   "source": [
    "all_abnormal_folder = os.listdir(DATA_LOC)\n",
    "all_abnormal_folder = all_abnormal_folder[1:] # Droping normal folder\n",
    "all_abnormal_folder"
   ]
  },
  {
   "cell_type": "code",
   "execution_count": null,
   "metadata": {},
   "outputs": [],
   "source": [
    "for counter, img_folder in enumerate(all_abnormal_folder):\n",
    "    for img in os.listdir(os.path.join(DATA_LOC, img_folder)):\n",
    "        shutil.copyfile(os.path.join(DATA_LOC, img_folder, img), os.path.join(TARGET_CLASS, \"AB\", img))\n",
    "    print(counter)"
   ]
  },
  {
   "cell_type": "code",
   "execution_count": null,
   "metadata": {},
   "outputs": [],
   "source": []
  },
  {
   "cell_type": "markdown",
   "metadata": {},
   "source": [
    "### Data for Five class classification with downsampled Normal class"
   ]
  },
  {
   "cell_type": "code",
   "execution_count": 5,
   "metadata": {},
   "outputs": [],
   "source": [
    "aami = {\n",
    "    \"normal\":['N',\"L\", \"R\",'e',\"j\"],\n",
    "    \"seb\":[\"A\",'a',\"J\"],\n",
    "    \"veb\":[\"V\", \"E\"],\n",
    "    \"fb\":[\"F\"],\n",
    "    \"ub\":[\"Q\", \"f\"]\n",
    "}"
   ]
  },
  {
   "cell_type": "code",
   "execution_count": 29,
   "metadata": {},
   "outputs": [],
   "source": [
    "DATA_LOC = \"./data/gaf_data\"\n",
    "TARGET_LOC = \"./data/gaf_data_5\""
   ]
  },
  {
   "cell_type": "code",
   "execution_count": 35,
   "metadata": {},
   "outputs": [],
   "source": [
    "def gen_data_train(DATA_LOC, TARGET_LOC, class_name,classes,max_allowed):\n",
    "    files = []\n",
    "    for i in classes:\n",
    "        try:\n",
    "            for f in os.listdir(os.path.join(DATA_LOC, i))[0:max_allowed]:\n",
    "                files.append(os.path.join(DATA_LOC, i,f)) \n",
    "        except:\n",
    "            for f in os.listdir(os.path.join(DATA_LOC, i)):\n",
    "                files.append(os.path.join(DATA_LOC, i,f)) \n",
    "#             files.append([os.path.join(DATA_LOC, i,f) for f in os.listdir(os.path.join(DATA_LOC, i))])\n",
    "    \n",
    "\n",
    "    shuffle(files)\n",
    "    \n",
    "    target_loc = os.path.join(TARGET_LOC, class_name)\n",
    "    \n",
    "    if not os.path.exists(target_loc):\n",
    "        os.makedirs(target_loc,mode=777)\n",
    "        \n",
    "    \n",
    "    try:\n",
    "        for counter, img in enumerate(files[0:max_allowed]):\n",
    "            shutil.copyfile(img, os.path.join(target_loc, str(counter)+\".png\"))\n",
    "            if counter % 50 == 0:\n",
    "                print(counter)\n",
    "    \n",
    "    except:\n",
    "        for counter, img in enumerate(files):\n",
    "            shutil.copyfile(img, os.path.join(target_loc, str(counter)+\".png\"))\n",
    "            if counter % 50 == 0:\n",
    "                print(counter)"
   ]
  },
  {
   "cell_type": "code",
   "execution_count": 3,
   "metadata": {},
   "outputs": [],
   "source": [
    "def gen_data_test(DATA_LOC, TARGET_LOC, class_name,classes):\n",
    "    files = []\n",
    "    for i in classes:\n",
    "        for f in os.listdir(os.path.join(DATA_LOC, i)):\n",
    "            files.append(os.path.join(DATA_LOC, i,f)) \n",
    "    \n",
    "\n",
    "    shuffle(files)\n",
    "    \n",
    "    target_loc = os.path.join(TARGET_LOC, class_name)\n",
    "    \n",
    "    if not os.path.exists(target_loc):\n",
    "        os.makedirs(target_loc,mode=777)\n",
    "        \n",
    "    for counter, img in enumerate(files):\n",
    "        shutil.copyfile(img, os.path.join(target_loc, str(counter)+\".png\"))\n",
    "        if counter % 50 == 0:\n",
    "            print(counter)\n",
    "    "
   ]
  },
  {
   "cell_type": "code",
   "execution_count": 11,
   "metadata": {
    "scrolled": true
   },
   "outputs": [
    {
     "name": "stdout",
     "output_type": "stream",
     "text": [
      "0\n",
      "50\n",
      "100\n",
      "150\n",
      "200\n",
      "250\n",
      "300\n",
      "350\n",
      "400\n",
      "450\n",
      "500\n",
      "550\n",
      "600\n",
      "650\n",
      "700\n",
      "750\n",
      "800\n",
      "850\n",
      "900\n",
      "950\n",
      "1000\n"
     ]
    }
   ],
   "source": [
    "DATA_LOC = \"./data/gaf_data\"\n",
    "TARGET_LOC = \"./data/test_gaf_data_5\"\n",
    "gen_data_test(DATA_LOC, TARGET_LOC, 'ub',aami[\"ub\"])"
   ]
  },
  {
   "cell_type": "markdown",
   "metadata": {},
   "source": [
    "### Data for Five class classification with downsampled Normal class"
   ]
  },
  {
   "cell_type": "code",
   "execution_count": 13,
   "metadata": {},
   "outputs": [
    {
     "name": "stdout",
     "output_type": "stream",
     "text": [
      "0\n",
      "0\n",
      "0\n",
      "0\n",
      "0\n",
      "0\n",
      "0\n",
      "0\n",
      "0\n",
      "0\n",
      "0\n",
      "0\n",
      "0\n",
      "0\n"
     ]
    }
   ],
   "source": [
    "def gen_data_train(DATA_LOC, TARGET_LOC, class_name,classes,max_allowed):\n",
    "    files = []\n",
    "    for i in classes:\n",
    "        try:\n",
    "            for f in os.listdir(os.path.join(DATA_LOC, i))[0:max_allowed]:\n",
    "                files.append(os.path.join(DATA_LOC, i,f)) \n",
    "        except:\n",
    "            for f in os.listdir(os.path.join(DATA_LOC, i)):\n",
    "                files.append(os.path.join(DATA_LOC, i,f)) \n",
    "    \n",
    "\n",
    "    shuffle(files)\n",
    "    \n",
    "    target_loc = os.path.join(TARGET_LOC, class_name)\n",
    "    \n",
    "    if not os.path.exists(target_loc):\n",
    "        os.makedirs(target_loc,mode=777)\n",
    "        \n",
    "    \n",
    "    try:\n",
    "        for counter, img in enumerate(files[0:max_allowed]):\n",
    "            shutil.copyfile(img, os.path.join(target_loc, str(counter)+\".png\"))\n",
    "            if counter % 50 == 0:\n",
    "                print(counter)\n",
    "    \n",
    "    except:\n",
    "        for counter, img in enumerate(files):\n",
    "            shutil.copyfile(img, os.path.join(target_loc, str(counter)+\".png\"))\n",
    "            if counter % 50 == 0:\n",
    "                print(counter)\n",
    "\n",
    "\n",
    "DATA_LOC = \"./data/gaf_data\"\n",
    "TARGET_LOC = \"./data/gaf_data_all\"\n",
    "\n",
    "all_class = ['N',\"L\", \"R\",'e',\"j\",\"A\",'a',\"J\",\"V\", \"E\",\"F\",\"Q\", \"f\",\"x\"]\n",
    "for i in all_class:\n",
    "    gen_data_train(DATA_LOC, TARGET_LOC, i ,i,50)"
   ]
  },
  {
   "cell_type": "code",
   "execution_count": null,
   "metadata": {},
   "outputs": [],
   "source": []
  }
 ],
 "metadata": {
  "kernelspec": {
   "display_name": "Python 3",
   "language": "python",
   "name": "python3"
  },
  "language_info": {
   "codemirror_mode": {
    "name": "ipython",
    "version": 3
   },
   "file_extension": ".py",
   "mimetype": "text/x-python",
   "name": "python",
   "nbconvert_exporter": "python",
   "pygments_lexer": "ipython3",
   "version": "3.6.8"
  }
 },
 "nbformat": 4,
 "nbformat_minor": 2
}
