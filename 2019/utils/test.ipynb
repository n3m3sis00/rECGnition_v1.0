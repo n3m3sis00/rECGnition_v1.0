{
 "nbformat": 4,
 "nbformat_minor": 2,
 "metadata": {
  "language_info": {
   "name": "python",
   "codemirror_mode": {
    "name": "ipython",
    "version": 3
   },
   "version": "3.7.3"
  },
  "orig_nbformat": 2,
  "file_extension": ".py",
  "mimetype": "text/x-python",
  "name": "python",
  "npconvert_exporter": "python",
  "pygments_lexer": "ipython3",
  "version": 3
 },
 "cells": [
  {
   "cell_type": "code",
   "execution_count": 2,
   "metadata": {},
   "outputs": [],
   "source": [
    "import pandas as pd"
   ]
  },
  {
   "cell_type": "code",
   "execution_count": 3,
   "metadata": {},
   "outputs": [
    {
     "name": "stderr",
     "output_type": "stream",
     "text": "d:\\projects\\ecg_beat\\env\\lib\\site-packages\\IPython\\core\\interactiveshell.py:3058: DtypeWarning: Columns (2,3,4,137,138,139,140,141,142,169,170,171,174,175,176,177,178,185,186,187,188,196,197,198,200,201,202,204,205,206,207,226,227,228,229,240,241,242,248,249,250,253,254,255,256,257,258) have mixed types. Specify dtype option on import or set low_memory=False.\n  interactivity=interactivity, compiler=compiler, result=result)\n"
    }
   ],
   "source": [
    "data = pd.read_csv(\"data\\data.csv\")"
   ]
  },
  {
   "cell_type": "code",
   "execution_count": 5,
   "metadata": {},
   "outputs": [
    {
     "data": {
      "text/plain": "array([[-0.22],\n       [-0.205],\n       [-0.19],\n       [-0.2],\n       [-0.22],\n       [-0.23],\n       [-0.21],\n       [-0.205],\n       [-0.2],\n       [-0.195],\n       [-0.22],\n       [-0.225],\n       [-0.225],\n       [-0.215],\n       [-0.205],\n       [-0.205],\n       [-0.215],\n       [-0.225],\n       [-0.22],\n       [-0.225],\n       [-0.195],\n       [-0.215],\n       [-0.22],\n       [-0.215],\n       [-0.225],\n       [-0.215],\n       [-0.21],\n       [-0.21],\n       [-0.225],\n       [-0.23],\n       [-0.22],\n       [-0.21],\n       [-0.205],\n       [-0.2],\n       [-0.205],\n       [-0.22],\n       [-0.23],\n       [-0.215],\n       [-0.205],\n       [-0.2],\n       [-0.23],\n       [-0.22],\n       [-0.215],\n       [-0.205],\n       [-0.2],\n       [-0.205],\n       [-0.22],\n       [-0.22],\n       [-0.225],\n       [-0.205],\n       [-0.2],\n       [-0.2],\n       [-0.21],\n       [-0.23],\n       [-0.215],\n       [-0.2],\n       [-0.2],\n       [-0.205],\n       [-0.21],\n       [-0.215],\n       [-0.22],\n       [-0.205],\n       [-0.2],\n       [-0.195],\n       [-0.205],\n       [-0.205],\n       [-0.205],\n       [-0.18],\n       [-0.17],\n       [-0.19],\n       [-0.19],\n       [-0.2],\n       [-0.185],\n       [-0.165],\n       [-0.145],\n       [-0.145],\n       [-0.17],\n       [-0.175],\n       [-0.17],\n       [-0.165],\n       [-0.15],\n       [-0.16],\n       [-0.175],\n       [-0.19],\n       [-0.19],\n       [-0.185],\n       [-0.185],\n       [-0.175],\n       [-0.195],\n       [-0.215],\n       [-0.205],\n       [-0.2],\n       [-0.195],\n       [-0.205],\n       [-0.21],\n       [-0.22],\n       [-0.215],\n       [-0.21],\n       [-0.205],\n       [-0.2],\n       [-0.21],\n       [-0.22],\n       [-0.22],\n       [-0.22],\n       [-0.2],\n       [-0.205],\n       [-0.215],\n       [-0.225],\n       [-0.22],\n       [-0.215],\n       [-0.205],\n       [-0.22],\n       [-0.225],\n       [-0.24],\n       [-0.26],\n       [-0.28],\n       [-0.3],\n       [-0.345],\n       [-0.375],\n       [-0.345],\n       [-0.26],\n       [-0.125],\n       [0.025],\n       [0.145],\n       [0.26],\n       [0.375],\n       [0.505],\n       [0.635],\n       [0.705],\n       [0.61],\n       [0.32],\n       [-0.045],\n       [-0.25],\n       [-0.27],\n       [-0.24],\n       [-0.24],\n       [-0.25],\n       [-0.255],\n       [-0.245],\n       [-0.245],\n       [-0.245],\n       [-0.255],\n       [-0.26],\n       [-0.26],\n       [-0.27],\n       [-0.245],\n       [-0.245],\n       [-0.25],\n       [-0.265],\n       [-0.27],\n       [-0.27],\n       [-0.265],\n       [-0.26],\n       [-0.26],\n       [-0.27],\n       [-0.28],\n       [-0.28],\n       [-0.27],\n       [-0.255],\n       [-0.265],\n       [-0.28],\n       [-0.29],\n       [-0.275],\n       [-0.265],\n       [-0.255],\n       [-0.26],\n       [-0.26],\n       [-0.28],\n       [-0.28],\n       [-0.265],\n       [-0.26],\n       [-0.255],\n       [-0.26],\n       [-0.275],\n       [-0.27],\n       [-0.275],\n       [-0.265],\n       [-0.265],\n       [-0.27],\n       [-0.28],\n       [-0.285],\n       [-0.28],\n       [-0.255],\n       [-0.27],\n       [-0.28],\n       [-0.29],\n       [-0.29],\n       [-0.27],\n       [-0.27],\n       [-0.285],\n       [-0.3],\n       [-0.3],\n       [-0.3],\n       [-0.295],\n       [-0.275],\n       [-0.295],\n       [-0.3],\n       [-0.31],\n       [-0.31],\n       [-0.315],\n       [-0.31],\n       [-0.31],\n       [-0.335],\n       [-0.345],\n       [-0.355],\n       [-0.35],\n       [-0.345],\n       [-0.36],\n       [-0.37],\n       [-0.375],\n       [-0.385],\n       [-0.37],\n       [-0.37],\n       [-0.385],\n       [-0.4],\n       [-0.415],\n       [-0.405],\n       [-0.41],\n       [-0.39],\n       [-0.405],\n       [-0.41],\n       [-0.425],\n       [-0.42],\n       [-0.41],\n       [-0.405],\n       [-0.4],\n       [-0.4],\n       [-0.405],\n       [-0.385],\n       [-0.365],\n       [-0.345],\n       [-0.335],\n       [-0.325],\n       [-0.31],\n       [-0.295],\n       [-0.275],\n       [-0.255],\n       [-0.25],\n       [-0.24],\n       [-0.245],\n       [-0.23],\n       [-0.205],\n       [-0.2],\n       [-0.2],\n       [-0.205],\n       [-0.21],\n       [-0.22],\n       [-0.195],\n       [-0.19],\n       [-0.2],\n       [-0.2],\n       [-0.21],\n       [-0.2],\n       [-0.19],\n       [-0.175],\n       [-0.2],\n       [-0.205],\n       [-0.21]], dtype=object)"
     },
     "execution_count": 5,
     "metadata": {},
     "output_type": "execute_result"
    }
   ],
   "source": [
    "data[0][:258].reshape(-1,1)"
   ]
  },
  {
   "cell_type": "code",
   "execution_count": 4,
   "metadata": {},
   "outputs": [],
   "source": [
    "data = data.values"
   ]
  },
  {
   "source": [
    "labels = data[:,-2]"
   ],
   "cell_type": "code",
   "outputs": [],
   "metadata": {},
   "execution_count": 11
  },
  {
   "source": [
    "labels"
   ],
   "cell_type": "code",
   "outputs": [
    {
     "output_type": "execute_result",
     "data": {
      "text/plain": "array(['N', 'N', 'N', ..., 'N', 'N', 'N'], dtype=object)"
     },
     "metadata": {},
     "execution_count": 13
    }
   ],
   "metadata": {},
   "execution_count": 13
  },
  {
   "cell_type": "code",
   "execution_count": null,
   "metadata": {},
   "outputs": [],
   "source": []
  },
  {
   "source": [
    "import numpy as np\n",
    "np.unique(np.asarray(labels).astype(str),return_counts=True)"
   ],
   "cell_type": "code",
   "outputs": [
    {
     "output_type": "execute_result",
     "data": {
      "text/plain": "(array(['!', '\"', '+', '/', 'A', 'E', 'F', 'J', 'L', 'N', 'Q', 'R', 'S',\n        'V', '[', ']', 'a', 'e', 'f', 'j', 'nan', 'x', '|', '~'],\n       dtype='<U3'),\n array([  472,   437,  1202,  5645,  2546,   106,   802,    83,  8070,\n        72314,    10,  7252,     2,  7085,     6,     6,   150,    16,\n          316,   229,    64,   193,   102,   489], dtype=int64))"
     },
     "metadata": {},
     "execution_count": 14
    }
   ],
   "metadata": {},
   "execution_count": 14
  }
 ]
}